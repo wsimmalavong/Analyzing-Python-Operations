{
 "cells": [
  {
   "cell_type": "markdown",
   "metadata": {},
   "source": [
    "# CPS305 Fall 2019\n",
    "## Lab $05$ Report\n",
    "## William Simmalavong, Std ID 500906232\n",
    "\n",
    "Oct 10, 2019\n",
    "\n",
    "# Introduction and Overall Comments\n",
    "\n",
    "The objective of this lab was to implement a resizing method inside of the put function that was provided in the online textbook. "
   ]
  },
  {
   "cell_type": "markdown",
   "metadata": {},
   "source": [
    "## Exercise 1"
   ]
  },
  {
   "cell_type": "code",
   "execution_count": 25,
   "metadata": {
    "scrolled": false
   },
   "outputs": [
    {
     "name": "stdout",
     "output_type": "stream",
     "text": [
      "[44, None, None, None, 26, 93, None, None, None, 31, 54, 77, 55, 10, 14, 15, 11, 17, 12, 13, 20, None]\n",
      "['goat', None, None, None, 'dog', 'lion', None, None, None, 'cow', 'cat', 'bird', 'pig', 'B', 'R', 'G', 'L', 'tiger', 'Q', 'S', 'chicken', None]\n"
     ]
    }
   ],
   "source": [
    "class HashTable:\n",
    "    def __init__(self):\n",
    "        self.size = 11\n",
    "        self.slots = [None] * self.size\n",
    "        self.data = [None] * self.size\n",
    "\n",
    "\n",
    "    def put(self,key,data):\n",
    "      \n",
    "\n",
    "      items = 0\n",
    "      for i in range (self.size - 1):\n",
    "          if self.slots[i] != None:\n",
    "              items = items + 1\n",
    "      loadingFactor = items/self.size\n",
    "    \n",
    "      if (loadingFactor >= 0.7): \n",
    "        oldSlots = self.slots\n",
    "        oldData = self.data\n",
    "        self.size = self.size * 2\n",
    "        self.slots = [None] * self.size\n",
    "        self.data = [None] * self.size\n",
    "        \n",
    "        for i in range (len(oldSlots)):\n",
    "          if (oldSlots[i] != None):\n",
    "              hashvalue = self.hashfunction(oldSlots[i],len(self.slots))\n",
    "              if self.slots[hashvalue] == None:\n",
    "                self.slots[hashvalue] = oldSlots[i]\n",
    "                self.data[hashvalue] = oldData[i]\n",
    "              else:\n",
    "                if self.slots[hashvalue] == key:\n",
    "                  self.data[hashvalue] = data  #replace\n",
    "                else:\n",
    "                  nextslot = self.rehash(hashvalue,len(self.slots))\n",
    "                  while self.slots[nextslot] != None and \\\n",
    "                                  self.slots[nextslot] != key:\n",
    "                    nextslot = self.rehash(nextslot,len(self.slots))\n",
    "\n",
    "                  if self.slots[nextslot] == None:\n",
    "                    self.slots[nextslot]=oldSlots[i]\n",
    "                    self.data[nextslot]=oldData[i]\n",
    "                  else:\n",
    "                    self.data[nextslot] = oldData[i] #replace\n",
    "                    \n",
    "                    \n",
    "      hashvalue = self.hashfunction(key,len(self.slots))\n",
    "\n",
    "      if self.slots[hashvalue] == None:\n",
    "        self.slots[hashvalue] = key\n",
    "        self.data[hashvalue] = data\n",
    "      else:\n",
    "        if self.slots[hashvalue] == key:\n",
    "          self.data[hashvalue] = data  #replace\n",
    "        else:\n",
    "          nextslot = self.rehash(hashvalue,len(self.slots))\n",
    "          while self.slots[nextslot] != None and \\\n",
    "                          self.slots[nextslot] != key:\n",
    "            nextslot = self.rehash(nextslot,len(self.slots))\n",
    "\n",
    "          if self.slots[nextslot] == None:\n",
    "            self.slots[nextslot]=key\n",
    "            self.data[nextslot]=data\n",
    "          else:\n",
    "            self.data[nextslot] = data #replace\n",
    "\n",
    "    def hashfunction(self,key,size):\n",
    "         return key%size\n",
    "\n",
    "    def rehash(self,oldhash,size):\n",
    "        return (oldhash+1)%size\n",
    "\n",
    "    def get(self,key):\n",
    "      startslot = self.hashfunction(key,len(self.slots))\n",
    "\n",
    "      data = None\n",
    "      stop = False\n",
    "      found = False\n",
    "      position = startslot\n",
    "      while self.slots[position] != None and  \\\n",
    "                           not found and not stop:\n",
    "         if self.slots[position] == key:\n",
    "           found = True\n",
    "           data = self.data[position]\n",
    "         else:\n",
    "           position=self.rehash(position,len(self.slots))\n",
    "           if position == startslot:\n",
    "               stop = True\n",
    "      return data\n",
    "\n",
    "    def __getitem__(self,key):\n",
    "        return self.get(key)\n",
    "\n",
    "    def __setitem__(self,key,data):\n",
    "        self.put(key,data)\n",
    "\n",
    "#Example Values added to hash table.\n",
    "H=HashTable()\n",
    "H[54]=\"cat\"\n",
    "H[26]=\"dog\"\n",
    "H[93]=\"lion\"\n",
    "H[17]=\"tiger\"\n",
    "H[77]=\"bird\"\n",
    "H[31]=\"cow\"\n",
    "H[44]=\"goat\"\n",
    "H[55]=\"pig\"\n",
    "H[20]=\"chicken\"\n",
    "\n",
    "H[14]=\"R\"\n",
    "H[15]=\"G\"\n",
    "H[10]=\"B\"\n",
    "H[11]=\"L\"\n",
    "H[12]=\"Q\"\n",
    "H[13]=\"S\"\n",
    "\n",
    "print(H.slots)\n",
    "print(H.data)"
   ]
  },
  {
   "cell_type": "markdown",
   "metadata": {},
   "source": [
    "**Discussion of the Methodology**\n",
    "\n",
    "The resizing method I chose for the hash table was to double the size each time the loading factor of 0.7 was reached. I did this doubling by saving the old slots and data values into seperate list and then I doubled the size of the old hash table and made all the values none. I then took the old slots and data values and rehashed them into the newly resized hash table. I chose to double the Hash Table because if the loading factor was at 0.7 that means it would be reduced to a number of 0.35.\n",
    "\n",
    "0.7 was chosen as my resizing loading factor as it seems like an appropriate number as that would mean that the hashtable would be approximately 3/4 full once 0.7 loading factor is reached. Once the hash table is 3/4 full that means that there is a high chance for collision issues and such so to reduce that it would be best to resize the hash table at this time. \n"
   ]
  },
  {
   "cell_type": "code",
   "execution_count": 23,
   "metadata": {
    "scrolled": false
   },
   "outputs": [
    {
     "name": "stderr",
     "output_type": "stream",
     "text": [
      ".....\n",
      "----------------------------------------------------------------------\n",
      "Ran 5 tests in 0.007s\n",
      "\n",
      "OK\n"
     ]
    }
   ],
   "source": [
    "run test.py"
   ]
  },
  {
   "cell_type": "code",
   "execution_count": null,
   "metadata": {},
   "outputs": [],
   "source": []
  }
 ],
 "metadata": {
  "kernelspec": {
   "display_name": "Python 3",
   "language": "python",
   "name": "python3"
  },
  "language_info": {
   "codemirror_mode": {
    "name": "ipython",
    "version": 3
   },
   "file_extension": ".py",
   "mimetype": "text/x-python",
   "name": "python",
   "nbconvert_exporter": "python",
   "pygments_lexer": "ipython3",
   "version": "3.7.3"
  },
  "latex_envs": {
   "LaTeX_envs_menu_present": true,
   "autoclose": false,
   "autocomplete": true,
   "bibliofile": "biblio.bib",
   "cite_by": "apalike",
   "current_citInitial": 1,
   "eqLabelWithNumbers": true,
   "eqNumInitial": 1,
   "hotkeys": {
    "equation": "Ctrl-E",
    "itemize": "Ctrl-I"
   },
   "labels_anchors": false,
   "latex_user_defs": false,
   "report_style_numbering": false,
   "user_envs_cfg": false
  }
 },
 "nbformat": 4,
 "nbformat_minor": 2
}
